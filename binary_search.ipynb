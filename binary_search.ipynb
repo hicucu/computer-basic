{
 "cells": [
  {
   "cell_type": "markdown",
   "metadata": {},
   "source": [
    "# 이진탐색"
   ]
  },
  {
   "cell_type": "code",
   "execution_count": 31,
   "metadata": {},
   "outputs": [
    {
     "name": "stdout",
     "output_type": "stream",
     "text": [
      "4 : not found\n"
     ]
    }
   ],
   "source": [
    "# 2진탐색\n",
    "# 데이터가 정렬되어있어야 한다.\n",
    "import math\n",
    "li=[1, 3, 5, 7, 9, 15, 17]\n",
    "\n",
    "def binary_search(li, target):\n",
    "    \"\"\"\n",
    "    binary_search(li, target) -> idx\n",
    "    타겟을 찾았다면 인덱스를 반환\n",
    "    찾지 못했다면 none\n",
    "    \"\"\"\n",
    "    start = 0\n",
    "    end = len(li)-1\n",
    "    mid = 0\n",
    "    while start<=end :        \n",
    "        mid = math.floor((end+start)/2);\n",
    "        \n",
    "        if li[mid]==target:\n",
    "            return mid\n",
    "        \n",
    "        elif li[mid]<target:            \n",
    "            start=mid+1\n",
    "            \n",
    "        else:             \n",
    "            end=mid-1    \n",
    "    \n",
    "    return None\n",
    "target=4\n",
    "resultIndex = binary_search(li,target)\n",
    "print(f\"{target} : not found\")if resultIndex == None else print(f\"{target} : index {resultIndex}\") \n"
   ]
  },
  {
   "cell_type": "markdown",
   "metadata": {},
   "source": [
    "## 이진탐색의 조건\n",
    "반드시 데이터가 정렬되어 있어야 한다."
   ]
  },
  {
   "cell_type": "markdown",
   "metadata": {},
   "source": [
    "## 선형탐색과 비교\n",
    "\n",
    "선형 탐색은 정렬이 되어 있지 않아도 가능<br>\n",
    "탐색이 필요한 시점에서 10에 9은 이미 데이터가 정렬된 경우가 많다<br>\n",
    "그렇기 때문에 탐색시점에서 이진탐색이 정렬이 필요하지만 무시하고 선형탐색과 성능평가를 함"
   ]
  },
  {
   "cell_type": "code",
   "execution_count": null,
   "metadata": {},
   "outputs": [],
   "source": []
  }
 ],
 "metadata": {
  "kernelspec": {
   "display_name": "Python 3",
   "language": "python",
   "name": "python3"
  },
  "language_info": {
   "codemirror_mode": {
    "name": "ipython",
    "version": 3
   },
   "file_extension": ".py",
   "mimetype": "text/x-python",
   "name": "python",
   "nbconvert_exporter": "python",
   "pygments_lexer": "ipython3",
   "version": "3.7.3"
  }
 },
 "nbformat": 4,
 "nbformat_minor": 2
}
