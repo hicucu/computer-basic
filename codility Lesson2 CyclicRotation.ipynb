{
 "cells": [
  {
   "cell_type": "code",
   "execution_count": 1,
   "metadata": {},
   "outputs": [
    {
     "name": "stdout",
     "output_type": "stream",
     "text": [
      "[]\n"
     ]
    }
   ],
   "source": [
    "import copy\n",
    "def solution(A, K):\n",
    "    # write your code in Python 3.6\n",
    "\n",
    "    n = len(A)\n",
    "    \n",
    "    \n",
    "    #return [9, 7, 6, 3, 8]. \n",
    "    result = copy.deepcopy(A)\n",
    "    \n",
    "    if n==0 or K%n==0:\n",
    "        return A\n",
    "    \n",
    "    else:\n",
    "        for i in range(n):\n",
    "            index = (i+K)%n        \n",
    "            result[index] = A[i]        \n",
    "        return result\n",
    "    \n",
    "    pass\n",
    "print(solution([],3))"
   ]
  },
  {
   "cell_type": "code",
   "execution_count": 2,
   "metadata": {},
   "outputs": [
    {
     "name": "stdout",
     "output_type": "stream",
     "text": [
      "[5, 6, 7, 1, 4]\n"
     ]
    }
   ],
   "source": [
    "print(solution([1,4,5,6,7],3))"
   ]
  },
  {
   "cell_type": "code",
   "execution_count": null,
   "metadata": {},
   "outputs": [],
   "source": []
  }
 ],
 "metadata": {
  "kernelspec": {
   "display_name": "Python 3",
   "language": "python",
   "name": "python3"
  },
  "language_info": {
   "codemirror_mode": {
    "name": "ipython",
    "version": 3
   },
   "file_extension": ".py",
   "mimetype": "text/x-python",
   "name": "python",
   "nbconvert_exporter": "python",
   "pygments_lexer": "ipython3",
   "version": "3.7.3"
  }
 },
 "nbformat": 4,
 "nbformat_minor": 2
}
