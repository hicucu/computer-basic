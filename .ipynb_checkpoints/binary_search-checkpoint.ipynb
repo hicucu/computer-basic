{
 "cells": [
  {
   "cell_type": "code",
   "execution_count": null,
   "metadata": {},
   "outputs": [],
   "source": [
    "# 2진탐색\n",
    "# 데이터가 정렬되어있어야 한다.\n",
    "import math\n",
    "li=[2, 4, 5, 6, 7, 10, 11, 29, 30, 35, 44]\n",
    "\n",
    "def binary_search(li, target):\n",
    "    \"\"\"\n",
    "    binary_search(li, target) -> idx\n",
    "    타겟을 찾았다면 인덱스를 반환\n",
    "    찾지 못했다면 none\n",
    "    \"\"\"\n",
    "    start = 0\n",
    "    end = len(li)\n",
    "    mid = 0\n",
    "    while start<=end :        \n",
    "        mid = math.floor((end+start)/2);\n",
    "        \n",
    "        if li[mid]==target:\n",
    "            return mid\n",
    "        \n",
    "        elif li[mid]<target:            \n",
    "            start=mid+1\n",
    "            \n",
    "        else:             \n",
    "            end=mid-1\n",
    "    \n",
    "    print(f\"while {mid}\")\n",
    "    return mid\n",
    "print(binary_search(li,4))"
   ]
  }
 ],
 "metadata": {
  "kernelspec": {
   "display_name": "Python 3",
   "language": "python",
   "name": "python3"
  },
  "language_info": {
   "codemirror_mode": {
    "name": "ipython",
    "version": 3
   },
   "file_extension": ".py",
   "mimetype": "text/x-python",
   "name": "python",
   "nbconvert_exporter": "python",
   "pygments_lexer": "ipython3",
   "version": "3.7.3"
  }
 },
 "nbformat": 4,
 "nbformat_minor": 2
}
